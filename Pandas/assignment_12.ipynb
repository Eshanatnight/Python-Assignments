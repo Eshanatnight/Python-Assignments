{
 "metadata": {
  "language_info": {
   "codemirror_mode": {
    "name": "ipython",
    "version": 3
   },
   "file_extension": ".py",
   "mimetype": "text/x-python",
   "name": "python",
   "nbconvert_exporter": "python",
   "pygments_lexer": "ipython3",
   "version": "3.8.7-final"
  },
  "orig_nbformat": 2,
  "kernelspec": {
   "name": "python3",
   "display_name": "Python 3",
   "language": "python"
  }
 },
 "nbformat": 4,
 "nbformat_minor": 2,
 "cells": [
  {
   "cell_type": "code",
   "execution_count": 1,
   "metadata": {},
   "outputs": [],
   "source": [
    "import pandas as pd"
   ]
  },
  {
   "cell_type": "code",
   "execution_count": 4,
   "metadata": {},
   "outputs": [
    {
     "output_type": "stream",
     "name": "stdout",
     "text": [
      "Data Set Accessed\n\n"
     ]
    }
   ],
   "source": [
    "dataFrame = pd.read_csv(\"items.csv\")\n",
    "print(\"Data Set Accessed\\n\")"
   ]
  },
  {
   "cell_type": "code",
   "execution_count": 5,
   "metadata": {},
   "outputs": [],
   "source": [
    "genreList = []  # Empty Array\n",
    "\n",
    "for col in dataFrame.columns[4:22]:\n",
    "    genreList.append(col)\n",
    "\n",
    "genre = []  # Empty Array\n",
    "values = []  # Empty Array\n",
    "\n",
    "for i in range(860):\n",
    "    for j in genreList:\n",
    "        if(dataFrame.iloc[i][j] == 1):\n",
    "            values.append(j)\n",
    "    genre.append(values)\n",
    "    values = [] # Set To an Empty Array again\n",
    "\n",
    "dataFrame[\"Genre\"] = genre"
   ]
  },
  {
   "cell_type": "code",
   "execution_count": 8,
   "metadata": {},
   "outputs": [],
   "source": [
    "finalItem = dataFrame[['movieId', 'movieTitle', 'releaseDate', 'Genre']]\n",
    "\n",
    "# Converting into a csv file\n",
    "finalItem.to_csv(\"prossed.csv\")"
   ]
  },
  {
   "cell_type": "code",
   "execution_count": null,
   "metadata": {},
   "outputs": [],
   "source": []
  }
 ]
}